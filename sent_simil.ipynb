{
 "cells": [
  {
   "cell_type": "code",
   "execution_count": 354,
   "metadata": {},
   "outputs": [],
   "source": [
    "from pulp import *\n",
    "import gensim\n",
    "import numpy as np"
   ]
  },
  {
   "cell_type": "code",
   "execution_count": 355,
   "metadata": {},
   "outputs": [
    {
     "name": "stdout",
     "output_type": "stream",
     "text": [
      "Loaded the word list!\n",
      "Loaded the word vectors!\n"
     ]
    }
   ],
   "source": [
    "wordsList = np.load('wordsList.npy')\n",
    "print('Loaded the word list!')\n",
    "wordsList = wordsList.tolist() #Originally loaded as numpy array\n",
    "wordsList = [word.decode('UTF-8') for word in wordsList] #Encode words as UTF-8\n",
    "wordVectors = np.load('wordVectors.npy')\n",
    "print ('Loaded the word vectors!')"
   ]
  },
  {
   "cell_type": "code",
   "execution_count": 356,
   "metadata": {},
   "outputs": [],
   "source": [
    "dict={'word':wordsList,'wordvec':wordVectors}\n"
   ]
  },
  {
   "cell_type": "code",
   "execution_count": 357,
   "metadata": {
    "collapsed": true
   },
   "outputs": [],
   "source": [
    "sent_1=\"I told my dad to go after my siblings\"\n",
    "sent_2 =\"Mom asked me to get my brother and sister from work\""
   ]
  },
  {
   "cell_type": "code",
   "execution_count": 358,
   "metadata": {
    "collapsed": true
   },
   "outputs": [],
   "source": [
    "#pre-process the data. tokenize->remove stop words ->lemma\n",
    "import pandas as pd\n",
    "import re\n",
    "import spacy\n",
    "from spacy.lang.en.stop_words import STOP_WORDS\n",
    "\n",
    "nlp = spacy.load('en')\n",
    "\n",
    "def spacy_filter(msg):\n",
    "    \n",
    "    msg=msg.lower()\n",
    "    msg=nlp(msg)\n",
    "    list=[w.lemma_ for w in msg if not (w.pos_ in ['DET','PUNCT','SYM','PRON'] or w in STOP_WORDS)]\n",
    "    list=[w for w in list if not (w in STOP_WORDS)]\n",
    "\n",
    "    #new_msg=' '.join(list)\n",
    "    #print ('hello',new_msg)\n",
    "    ##input()\n",
    "\n",
    "    return list\n",
    "\n",
    "\n",
    "\n"
   ]
  },
  {
   "cell_type": "code",
   "execution_count": 359,
   "metadata": {},
   "outputs": [],
   "source": [
    "#pre-processing functions\n",
    "filtered_sent_2=spacy_filter(sent_2)\n",
    "filtered_sent_1=spacy_filter(sent_1)\n",
    "\n"
   ]
  },
  {
   "cell_type": "code",
   "execution_count": 360,
   "metadata": {},
   "outputs": [],
   "source": [
    "#smaller length sent to s1\n",
    "if len(filtered_sent_1)>len(filtered_sent_2):\n",
    "    s1=filtered_sent_2\n",
    "    s2=filtered_sent_1\n",
    "else:\n",
    "    s2=filtered_sent_2\n",
    "    s1=filtered_sent_1"
   ]
  },
  {
   "cell_type": "code",
   "execution_count": 361,
   "metadata": {},
   "outputs": [
    {
     "data": {
      "text/plain": [
       "['mom', 'ask', '-PRON-', 'brother', 'sister', 'work']"
      ]
     },
     "execution_count": 361,
     "metadata": {},
     "output_type": "execute_result"
    }
   ],
   "source": [
    "s2"
   ]
  },
  {
   "cell_type": "code",
   "execution_count": 362,
   "metadata": {
    "collapsed": true
   },
   "outputs": [],
   "source": [
    "#checks for the cossine similarity\n",
    "def check_simil(a,b):\n",
    "    return np.dot(wordVectors[wordsList.index(a)], wordVectors[wordsList.index(b)])/(np.linalg.norm(wordVectors[wordsList.index(a)])* np.linalg.norm(wordVectors[wordsList.index(b)]))"
   ]
  },
  {
   "cell_type": "code",
   "execution_count": null,
   "metadata": {},
   "outputs": [],
   "source": []
  },
  {
   "cell_type": "code",
   "execution_count": 363,
   "metadata": {},
   "outputs": [],
   "source": [
    "def returnWordVec(word,wordsList=wordsList,wordVectors=wordVectors):\n",
    "    try:\n",
    "        i=wordsList.index(word)\n",
    "        return wordVectors[i,:]\n",
    "    except Exception as e:\n",
    "        print (\"word not found\")\n",
    "            "
   ]
  },
  {
   "cell_type": "code",
   "execution_count": 364,
   "metadata": {
    "collapsed": true
   },
   "outputs": [],
   "source": [
    "def returnWordVec(word,wordsList=wordsList,wordVectors=wordVectors):\n",
    "    try:\n",
    "        i=wordsList.index(word)\n",
    "        return True\n",
    "    except Exception as e:\n",
    "        return False"
   ]
  },
  {
   "cell_type": "code",
   "execution_count": 365,
   "metadata": {},
   "outputs": [
    {
     "data": {
      "text/plain": [
       "array([ 0.013441  ,  0.23682   , -0.16899   ,  0.40950999,  0.63812   ,\n",
       "        0.47709   , -0.42851999, -0.55641001, -0.36399999, -0.23938   ,\n",
       "        0.13000999, -0.063734  , -0.39574999, -0.48162001,  0.23291001,\n",
       "        0.090201  , -0.13324   ,  0.078639  , -0.41633999, -0.15428001,\n",
       "        0.10068   ,  0.48890999,  0.31226   , -0.1252    , -0.037512  ,\n",
       "       -1.51789999,  0.12612   , -0.02442   , -0.042961  , -0.28351   ,\n",
       "        3.54159999, -0.11956   , -0.014533  , -0.1499    ,  0.21864   ,\n",
       "       -0.33412001, -0.13872001,  0.31806001,  0.70358002,  0.44858   ,\n",
       "       -0.080262  ,  0.63002998,  0.32111001, -0.46765   ,  0.22786   ,\n",
       "        0.36034   , -0.37818   , -0.56656998,  0.044691  ,  0.30392   ], dtype=float32)"
      ]
     },
     "execution_count": 365,
     "metadata": {},
     "output_type": "execute_result"
    }
   ],
   "source": [
    "wordVectors[1,:]"
   ]
  },
  {
   "cell_type": "code",
   "execution_count": 366,
   "metadata": {},
   "outputs": [
    {
     "data": {
      "text/plain": [
       "False"
      ]
     },
     "execution_count": 366,
     "metadata": {},
     "output_type": "execute_result"
    }
   ],
   "source": [
    "returnWordVec(\"Silicon\")\n"
   ]
  },
  {
   "cell_type": "code",
   "execution_count": 367,
   "metadata": {},
   "outputs": [],
   "source": [
    "#removing words not present in the wordVector list\n",
    "for w1 in s1:\n",
    "    if(returnWordVec(w1)==False):\n",
    "            s1.remove(w1)\n",
    "            \n",
    "for w2 in s2:\n",
    "\n",
    "    if(returnWordVec(w2)==False):\n",
    "        s2.remove(w2)"
   ]
  },
  {
   "cell_type": "code",
   "execution_count": 368,
   "metadata": {
    "collapsed": true
   },
   "outputs": [],
   "source": [
    "def setCost(s1,s2):\n",
    "    cost=np.zeros((len(s1),len(s2)))\n",
    "    for w1 in s1:\n",
    "        for w2 in s2:\n",
    "            \n",
    "            cost[s1.index(w1)][s2.index(w2)]=check_simil(w1,w2)\n",
    "    return cost       "
   ]
  },
  {
   "cell_type": "code",
   "execution_count": 369,
   "metadata": {},
   "outputs": [],
   "source": [
    "costs=setCost(s1,s2)"
   ]
  },
  {
   "cell_type": "code",
   "execution_count": 370,
   "metadata": {},
   "outputs": [
    {
     "data": {
      "text/plain": [
       "['tell', 'dad', 'sibling']"
      ]
     },
     "execution_count": 370,
     "metadata": {},
     "output_type": "execute_result"
    }
   ],
   "source": [
    "s1\n"
   ]
  },
  {
   "cell_type": "code",
   "execution_count": 371,
   "metadata": {},
   "outputs": [
    {
     "data": {
      "text/plain": [
       "['mom', 'ask', 'brother', 'sister', 'work']"
      ]
     },
     "execution_count": 371,
     "metadata": {},
     "output_type": "execute_result"
    }
   ],
   "source": [
    "s2"
   ]
  },
  {
   "cell_type": "code",
   "execution_count": null,
   "metadata": {
    "collapsed": true
   },
   "outputs": [],
   "source": []
  },
  {
   "cell_type": "code",
   "execution_count": null,
   "metadata": {
    "collapsed": true
   },
   "outputs": [],
   "source": []
  },
  {
   "cell_type": "code",
   "execution_count": null,
   "metadata": {
    "collapsed": true
   },
   "outputs": [],
   "source": []
  },
  {
   "cell_type": "code",
   "execution_count": null,
   "metadata": {},
   "outputs": [],
   "source": []
  },
  {
   "cell_type": "code",
   "execution_count": 372,
   "metadata": {},
   "outputs": [
    {
     "data": {
      "text/plain": [
       "\"\\ns1=['silicon','gelato','velvety']\\ns2=['italian','ice-cream','rich']\\ncosts=[\\n        [1,5,9],\\n        [8,1,8],\\n        [7,2,1]\\n]\\n\""
      ]
     },
     "execution_count": 372,
     "metadata": {},
     "output_type": "execute_result"
    }
   ],
   "source": [
    "\"\"\"\n",
    "s1=['silicon','gelato','velvety']\n",
    "s2=['italian','ice-cream','rich']\n",
    "costs=[\n",
    "        [1,5,9],\n",
    "        [8,1,8],\n",
    "        [7,2,1]\n",
    "]\n",
    "\"\"\""
   ]
  },
  {
   "cell_type": "code",
   "execution_count": 373,
   "metadata": {},
   "outputs": [],
   "source": [
    "#taking np.abs to compare just the magnitudes and no direction in the vector space\n",
    "cost_dict=makeDict([s1,s2],np.abs(costs),0)\n"
   ]
  },
  {
   "cell_type": "code",
   "execution_count": 374,
   "metadata": {},
   "outputs": [
    {
     "data": {
      "text/plain": [
       "array([[ 0.74576539,  0.9085933 ,  0.53068131,  0.52667749,  0.64633483],\n",
       "       [ 0.90403229,  0.60015941,  0.67111242,  0.62630081,  0.41700187],\n",
       "       [ 0.42191681,  0.12228175,  0.39654291,  0.55023712,  0.10764812]])"
      ]
     },
     "execution_count": 374,
     "metadata": {},
     "output_type": "execute_result"
    }
   ],
   "source": [
    "costs\n"
   ]
  },
  {
   "cell_type": "code",
   "execution_count": 375,
   "metadata": {
    "collapsed": true
   },
   "outputs": [],
   "source": [
    "prob = LpProblem(\"Word assign Problem\",LpMaximize)"
   ]
  },
  {
   "cell_type": "code",
   "execution_count": 376,
   "metadata": {
    "collapsed": true
   },
   "outputs": [],
   "source": [
    "Mapping = [(w,b) for w in s1 for b in s2]"
   ]
  },
  {
   "cell_type": "code",
   "execution_count": 377,
   "metadata": {},
   "outputs": [
    {
     "data": {
      "text/plain": [
       "[('tell', 'mom'),\n",
       " ('tell', 'ask'),\n",
       " ('tell', 'brother'),\n",
       " ('tell', 'sister'),\n",
       " ('tell', 'work'),\n",
       " ('dad', 'mom'),\n",
       " ('dad', 'ask'),\n",
       " ('dad', 'brother'),\n",
       " ('dad', 'sister'),\n",
       " ('dad', 'work'),\n",
       " ('sibling', 'mom'),\n",
       " ('sibling', 'ask'),\n",
       " ('sibling', 'brother'),\n",
       " ('sibling', 'sister'),\n",
       " ('sibling', 'work')]"
      ]
     },
     "execution_count": 377,
     "metadata": {},
     "output_type": "execute_result"
    }
   ],
   "source": [
    "Mapping\n"
   ]
  },
  {
   "cell_type": "code",
   "execution_count": 378,
   "metadata": {},
   "outputs": [],
   "source": [
    "vars = LpVariable.dicts(\"cost\",(s1,s2),lowBound=0, upBound=1, cat='Integer')"
   ]
  },
  {
   "cell_type": "code",
   "execution_count": 379,
   "metadata": {},
   "outputs": [
    {
     "data": {
      "text/plain": [
       "{'dad': {'ask': cost_dad_ask,\n",
       "  'brother': cost_dad_brother,\n",
       "  'mom': cost_dad_mom,\n",
       "  'sister': cost_dad_sister,\n",
       "  'work': cost_dad_work},\n",
       " 'sibling': {'ask': cost_sibling_ask,\n",
       "  'brother': cost_sibling_brother,\n",
       "  'mom': cost_sibling_mom,\n",
       "  'sister': cost_sibling_sister,\n",
       "  'work': cost_sibling_work},\n",
       " 'tell': {'ask': cost_tell_ask,\n",
       "  'brother': cost_tell_brother,\n",
       "  'mom': cost_tell_mom,\n",
       "  'sister': cost_tell_sister,\n",
       "  'work': cost_tell_work}}"
      ]
     },
     "execution_count": 379,
     "metadata": {},
     "output_type": "execute_result"
    }
   ],
   "source": [
    "vars"
   ]
  },
  {
   "cell_type": "code",
   "execution_count": 380,
   "metadata": {},
   "outputs": [],
   "source": [
    "prob += lpSum([vars[w][b]*cost_dict[w][b] for (w,b) in Mapping])"
   ]
  },
  {
   "cell_type": "code",
   "execution_count": 381,
   "metadata": {},
   "outputs": [],
   "source": [
    "for w in s1:\n",
    "    prob += lpSum([vars[w][b] for b in s2])==1"
   ]
  },
  {
   "cell_type": "code",
   "execution_count": 382,
   "metadata": {},
   "outputs": [],
   "source": [
    "result=prob.solve()"
   ]
  },
  {
   "cell_type": "code",
   "execution_count": 383,
   "metadata": {},
   "outputs": [
    {
     "data": {
      "text/plain": [
       "Word assign Problem:\n",
       "MAXIMIZE\n",
       "0.600159406662*cost_dad_ask + 0.671112418175*cost_dad_brother + 0.904032289982*cost_dad_mom + 0.626300811768*cost_dad_sister + 0.417001873255*cost_dad_work + 0.122281752527*cost_sibling_ask + 0.396542906761*cost_sibling_brother + 0.421916812658*cost_sibling_mom + 0.550237119198*cost_sibling_sister + 0.10764811933*cost_sibling_work + 0.908593297005*cost_tell_ask + 0.530681312084*cost_tell_brother + 0.745765388012*cost_tell_mom + 0.526677489281*cost_tell_sister + 0.646334826946*cost_tell_work + 0.0\n",
       "SUBJECT TO\n",
       "_C1: cost_tell_ask + cost_tell_brother + cost_tell_mom + cost_tell_sister\n",
       " + cost_tell_work = 1\n",
       "\n",
       "_C2: cost_dad_ask + cost_dad_brother + cost_dad_mom + cost_dad_sister\n",
       " + cost_dad_work = 1\n",
       "\n",
       "_C3: cost_sibling_ask + cost_sibling_brother + cost_sibling_mom\n",
       " + cost_sibling_sister + cost_sibling_work = 1\n",
       "\n",
       "VARIABLES\n",
       "0 <= cost_dad_ask <= 1 Integer\n",
       "0 <= cost_dad_brother <= 1 Integer\n",
       "0 <= cost_dad_mom <= 1 Integer\n",
       "0 <= cost_dad_sister <= 1 Integer\n",
       "0 <= cost_dad_work <= 1 Integer\n",
       "0 <= cost_sibling_ask <= 1 Integer\n",
       "0 <= cost_sibling_brother <= 1 Integer\n",
       "0 <= cost_sibling_mom <= 1 Integer\n",
       "0 <= cost_sibling_sister <= 1 Integer\n",
       "0 <= cost_sibling_work <= 1 Integer\n",
       "0 <= cost_tell_ask <= 1 Integer\n",
       "0 <= cost_tell_brother <= 1 Integer\n",
       "0 <= cost_tell_mom <= 1 Integer\n",
       "0 <= cost_tell_sister <= 1 Integer\n",
       "0 <= cost_tell_work <= 1 Integer"
      ]
     },
     "execution_count": 383,
     "metadata": {},
     "output_type": "execute_result"
    }
   ],
   "source": [
    "prob"
   ]
  },
  {
   "cell_type": "code",
   "execution_count": 384,
   "metadata": {},
   "outputs": [
    {
     "name": "stdout",
     "output_type": "stream",
     "text": [
      "Status: Optimal\n"
     ]
    }
   ],
   "source": [
    "print(\"Status:\", LpStatus[prob.status])"
   ]
  },
  {
   "cell_type": "code",
   "execution_count": 385,
   "metadata": {},
   "outputs": [
    {
     "data": {
      "text/plain": [
       "LpAffineExpression([(cost_tell_mom, 0.74576538801193237),\n",
       "                    (cost_tell_ask, 0.90859329700469971),\n",
       "                    (cost_tell_brother, 0.530681312084198),\n",
       "                    (cost_tell_sister, 0.52667748928070068),\n",
       "                    (cost_tell_work, 0.64633482694625854),\n",
       "                    (cost_dad_mom, 0.90403228998184204),\n",
       "                    (cost_dad_ask, 0.6001594066619873),\n",
       "                    (cost_dad_brother, 0.67111241817474365),\n",
       "                    (cost_dad_sister, 0.62630081176757813),\n",
       "                    (cost_dad_work, 0.417001873254776),\n",
       "                    (cost_sibling_mom, 0.42191681265830994),\n",
       "                    (cost_sibling_ask, 0.1222817525267601),\n",
       "                    (cost_sibling_brother, 0.39654290676116943),\n",
       "                    (cost_sibling_sister, 0.55023711919784546),\n",
       "                    (cost_sibling_work, 0.10764811933040619)])"
      ]
     },
     "execution_count": 385,
     "metadata": {},
     "output_type": "execute_result"
    }
   ],
   "source": [
    "prob.objective"
   ]
  },
  {
   "cell_type": "code",
   "execution_count": 386,
   "metadata": {},
   "outputs": [
    {
     "name": "stdout",
     "output_type": "stream",
     "text": [
      "cost_dad_ask = 0.0\n",
      "cost_dad_brother = 0.0\n",
      "cost_dad_mom = 1.0\n",
      "cost_dad_sister = 0.0\n",
      "cost_dad_work = 0.0\n",
      "cost_sibling_ask = 0.0\n",
      "cost_sibling_brother = 0.0\n",
      "cost_sibling_mom = 0.0\n",
      "cost_sibling_sister = 1.0\n",
      "cost_sibling_work = 0.0\n",
      "cost_tell_ask = 1.0\n",
      "cost_tell_brother = 0.0\n",
      "cost_tell_mom = 0.0\n",
      "cost_tell_sister = 0.0\n",
      "cost_tell_work = 0.0\n"
     ]
    }
   ],
   "source": [
    "for v in prob.variables():\n",
    "    print(v.name, \"=\", v.varValue)"
   ]
  },
  {
   "cell_type": "code",
   "execution_count": null,
   "metadata": {
    "collapsed": true
   },
   "outputs": [],
   "source": []
  },
  {
   "cell_type": "code",
   "execution_count": 387,
   "metadata": {},
   "outputs": [
    {
     "data": {
      "text/plain": [
       "2.3628627061843872"
      ]
     },
     "execution_count": 387,
     "metadata": {},
     "output_type": "execute_result"
    }
   ],
   "source": [
    "value(prob.objective)"
   ]
  },
  {
   "cell_type": "code",
   "execution_count": null,
   "metadata": {
    "collapsed": true
   },
   "outputs": [],
   "source": []
  }
 ],
 "metadata": {
  "kernelspec": {
   "display_name": "Python 3",
   "language": "python",
   "name": "python3"
  },
  "language_info": {
   "codemirror_mode": {
    "name": "ipython",
    "version": 3
   },
   "file_extension": ".py",
   "mimetype": "text/x-python",
   "name": "python",
   "nbconvert_exporter": "python",
   "pygments_lexer": "ipython3",
   "version": "3.6.3"
  }
 },
 "nbformat": 4,
 "nbformat_minor": 2
}
